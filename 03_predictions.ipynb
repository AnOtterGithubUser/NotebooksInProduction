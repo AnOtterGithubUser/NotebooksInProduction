{
 "cells": [
  {
   "cell_type": "markdown",
   "id": "double-showcase",
   "metadata": {},
   "source": [
    "# Prediction for N+1, N+7, N+30"
   ]
  },
  {
   "cell_type": "code",
   "execution_count": null,
   "id": "differential-surrey",
   "metadata": {},
   "outputs": [],
   "source": [
    "# Import libraries\n",
    "import datetime\n",
    "import os\n",
    "import pandas as pd\n",
    "from pathlib import Path\n",
    "from joblib import load\n",
    "from sklearn.base import TransformerMixin"
   ]
  },
  {
   "cell_type": "code",
   "execution_count": null,
   "id": "patient-collective",
   "metadata": {
    "tags": [
     "parameters"
    ]
   },
   "outputs": [],
   "source": [
    "# Constants\n",
    "MODEL_PATH = \"artifacts/2021-03-18/\"\n",
    "MODEL_NAME = \"LinearRegression\"\n",
    "MODEL_EXTENSION = \".joblib\"\n",
    "DATA_DIR = \"data\"\n",
    "DATE_FORMAT = \"%Y-%m-%d\"\n",
    "INPUT_DIRNAME = \"02_clean\"\n",
    "INPUT_FILENAME = \"clean_data.csv\"\n",
    "OUTPUT_DIRNAME = \"03_predictions\"\n",
    "OUTPUT_FILENAME = \"predictions_linear_regression.csv\"\n",
    "DAY_PLUS_1 = \"DAY_PLUS_1\"\n",
    "DAY_PLUS_7 = \"DAY_PLUS_7\"\n",
    "DAY_PLUS_30 = \"DAY_PLUS_30\"\n",
    "EXECUTION_DATE = \"2021-02-25\"\n",
    "NB_DAYS = 7"
   ]
  },
  {
   "cell_type": "code",
   "execution_count": null,
   "id": "outstanding-sense",
   "metadata": {},
   "outputs": [],
   "source": [
    "# System constants\n",
    "D_PLUS_1 = datetime.datetime.strptime(EXECUTION_DATE, \"%Y-%m-%d\") + datetime.timedelta(days=1)\n",
    "D_PLUS_7 = datetime.datetime.strptime(EXECUTION_DATE, \"%Y-%m-%d\") + datetime.timedelta(days=7)\n",
    "D_PLUS_30 = datetime.datetime.strptime(EXECUTION_DATE, \"%Y-%m-%d\") + datetime.timedelta(days=30)\n",
    "OUTPUT_DIR_1 = Path(os.path.join(DATA_DIR, OUTPUT_DIRNAME, D_PLUS_1.strftime(DATE_FORMAT), DAY_PLUS_1))\n",
    "OUTPUT_DIR_1.mkdir(parents=True, exist_ok=True)\n",
    "OUTPUT_DIR_7 = Path(os.path.join(DATA_DIR, OUTPUT_DIRNAME, D_PLUS_7.strftime(DATE_FORMAT), DAY_PLUS_7))\n",
    "OUTPUT_DIR_7.mkdir(parents=True, exist_ok=True)\n",
    "OUTPUT_DIR_30 = Path(os.path.join(DATA_DIR, OUTPUT_DIRNAME, D_PLUS_30.strftime(DATE_FORMAT), DAY_PLUS_30))\n",
    "OUTPUT_DIR_30.mkdir(parents=True, exist_ok=True)"
   ]
  },
  {
   "cell_type": "code",
   "execution_count": null,
   "id": "visible-impact",
   "metadata": {},
   "outputs": [],
   "source": [
    "def load_training_data(path: str, date: str, nb_days: int) -> pd.DataFrame:\n",
    "    date_ = datetime.datetime.strptime(date, \"%Y-%m-%d\")\n",
    "    dataframes = []\n",
    "    for d in range(nb_days):\n",
    "        curr_date = (date_ - datetime.timedelta(days=d)).strftime(\"%Y-%m-%d\")\n",
    "        dataframes.append(pd.read_csv(os.path.join(path, curr_date, INPUT_FILENAME)))\n",
    "    return pd.concat(dataframes, ignore_index=True)"
   ]
  },
  {
   "cell_type": "code",
   "execution_count": null,
   "id": "emotional-champagne",
   "metadata": {},
   "outputs": [],
   "source": [
    "# Load data\n",
    "data_df = load_training_data(os.path.join(DATA_DIR, INPUT_DIRNAME), EXECUTION_DATE, NB_DAYS).rename(columns={\"Close\": \"value\"}).set_index(\"Date\").sort_index()"
   ]
  },
  {
   "cell_type": "code",
   "execution_count": null,
   "id": "hungarian-index",
   "metadata": {},
   "outputs": [],
   "source": [
    "# Move this to 02_transform_data.ipynb\n",
    "def get_data_for_prediction(df: pd.DataFrame, date: str, nb_days: int) -> pd.DataFrame:\n",
    "    start_date = (datetime.datetime.strptime(date, \"%Y-%m-%d\") - datetime.timedelta(days=nb_days-1)).strftime(\"%Y-%m-%d\")\n",
    "    end_date = datetime.datetime.strptime(date, \"%Y-%m-%d\").strftime(\"%Y-%m-%d\")\n",
    "    return df.loc[start_date:end_date]"
   ]
  },
  {
   "cell_type": "code",
   "execution_count": null,
   "id": "fabulous-count",
   "metadata": {},
   "outputs": [],
   "source": [
    "df = get_data_for_prediction(data_df, EXECUTION_DATE, NB_DAYS)"
   ]
  },
  {
   "cell_type": "code",
   "execution_count": null,
   "id": "sealed-skirt",
   "metadata": {},
   "outputs": [],
   "source": [
    "x = df.sort_index(ascending=False).values.reshape((1, NB_DAYS))"
   ]
  },
  {
   "cell_type": "code",
   "execution_count": null,
   "id": "pointed-adaptation",
   "metadata": {},
   "outputs": [],
   "source": [
    "# Load models artifacts\n",
    "model_plus_1 = load(os.path.join(MODEL_PATH, DAY_PLUS_1, MODEL_NAME+MODEL_EXTENSION))\n",
    "\n",
    "model_plus_7 = load(os.path.join(MODEL_PATH, DAY_PLUS_7, MODEL_NAME+MODEL_EXTENSION))\n",
    "\n",
    "model_plus_30 = load(os.path.join(MODEL_PATH, DAY_PLUS_30, MODEL_NAME+MODEL_EXTENSION))"
   ]
  },
  {
   "cell_type": "code",
   "execution_count": null,
   "id": "psychological-saint",
   "metadata": {},
   "outputs": [],
   "source": [
    "# Predict for D+1, D+7, D+30\n",
    "predictions_1 = pd.DataFrame(model_plus_1.predict(x), columns=[\"value\"], index=[D_PLUS_1.strftime(\"%Y-%m-%d\")])\n",
    "predictions_7 = pd.DataFrame(model_plus_7.predict(x), columns=[\"value\"], index=[D_PLUS_7.strftime(\"%Y-%m-%d\")])\n",
    "predictions_30 = pd.DataFrame(model_plus_30.predict(x), columns=[\"value\"], index=[D_PLUS_30.strftime(\"%Y-%m-%d\")])"
   ]
  },
  {
   "cell_type": "code",
   "execution_count": null,
   "id": "blocked-automation",
   "metadata": {},
   "outputs": [],
   "source": [
    "# Save predictions\n",
    "predictions_1.to_csv(os.path.join(OUTPUT_DIR_1, OUTPUT_FILENAME))\n",
    "predictions_7.to_csv(os.path.join(OUTPUT_DIR_7, OUTPUT_FILENAME))\n",
    "predictions_30.to_csv(os.path.join(OUTPUT_DIR_30, OUTPUT_FILENAME))"
   ]
  }
 ],
 "metadata": {
  "kernelspec": {
   "display_name": "notebook_indus",
   "language": "python",
   "name": "notebook_indus"
  },
  "language_info": {
   "codemirror_mode": {
    "name": "ipython",
    "version": 3
   },
   "file_extension": ".py",
   "mimetype": "text/x-python",
   "name": "python",
   "nbconvert_exporter": "python",
   "pygments_lexer": "ipython3",
   "version": "3.8.8"
  }
 },
 "nbformat": 4,
 "nbformat_minor": 5
}

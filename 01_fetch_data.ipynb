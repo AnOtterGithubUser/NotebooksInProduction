{
 "cells": [
  {
   "cell_type": "markdown",
   "id": "pressed-entrance",
   "metadata": {},
   "source": [
    "# Fetch bitcoin data"
   ]
  },
  {
   "cell_type": "code",
   "execution_count": 1,
   "id": "incoming-turner",
   "metadata": {
    "tags": []
   },
   "outputs": [],
   "source": [
    "# Import libraries\n",
    "import yfinance as yf\n",
    "import datetime\n",
    "from pathlib import Path\n",
    "import os"
   ]
  },
  {
   "cell_type": "code",
   "execution_count": 2,
   "id": "australian-matthew",
   "metadata": {
    "tags": [
     "parameters"
    ]
   },
   "outputs": [],
   "source": [
    "# User constants\n",
    "BTC_TICKER = \"BTC-USD\"\n",
    "NB_DAYS = 0\n",
    "DATE_FORMAT = \"%Y-%m-%d\"\n",
    "DATA_DIR = \"data\"\n",
    "OUTPUT_DIRNAME = \"01_raw\"\n",
    "OUTPUT_FILENAME = \"raw_data.csv\"\n",
    "EXECUTION_DATE = \"2021-03-14\""
   ]
  },
  {
   "cell_type": "code",
   "execution_count": 3,
   "id": "efficient-summit",
   "metadata": {},
   "outputs": [],
   "source": [
    "# Program defined constants\n",
    "OUTPUT_DIR = Path(os.path.join(DATA_DIR, OUTPUT_DIRNAME, EXECUTION_DATE))\n",
    "OUTPUT_DIR.mkdir(parents=True, exist_ok=True)"
   ]
  },
  {
   "cell_type": "code",
   "execution_count": 4,
   "id": "dominant-hurricane",
   "metadata": {},
   "outputs": [],
   "source": [
    "# Fetch data from Yahoo Finance\n",
    "btc = yf.Ticker(BTC_TICKER)\n",
    "btc_df = btc.history(start=EXECUTION_DATE).loc[[EXECUTION_DATE]]"
   ]
  },
  {
   "cell_type": "code",
   "execution_count": 5,
   "id": "waiting-rapid",
   "metadata": {},
   "outputs": [
    {
     "data": {
      "text/html": [
       "<div>\n",
       "<style scoped>\n",
       "    .dataframe tbody tr th:only-of-type {\n",
       "        vertical-align: middle;\n",
       "    }\n",
       "\n",
       "    .dataframe tbody tr th {\n",
       "        vertical-align: top;\n",
       "    }\n",
       "\n",
       "    .dataframe thead th {\n",
       "        text-align: right;\n",
       "    }\n",
       "</style>\n",
       "<table border=\"1\" class=\"dataframe\">\n",
       "  <thead>\n",
       "    <tr style=\"text-align: right;\">\n",
       "      <th></th>\n",
       "      <th>Open</th>\n",
       "      <th>High</th>\n",
       "      <th>Low</th>\n",
       "      <th>Close</th>\n",
       "      <th>Volume</th>\n",
       "      <th>Dividends</th>\n",
       "      <th>Stock Splits</th>\n",
       "    </tr>\n",
       "    <tr>\n",
       "      <th>Date</th>\n",
       "      <th></th>\n",
       "      <th></th>\n",
       "      <th></th>\n",
       "      <th></th>\n",
       "      <th></th>\n",
       "      <th></th>\n",
       "      <th></th>\n",
       "    </tr>\n",
       "  </thead>\n",
       "  <tbody>\n",
       "    <tr>\n",
       "      <th>2021-03-14</th>\n",
       "      <td>60001.175781</td>\n",
       "      <td>61578.289062</td>\n",
       "      <td>59509.558594</td>\n",
       "      <td>59844.519531</td>\n",
       "      <td>45793230848</td>\n",
       "      <td>0</td>\n",
       "      <td>0</td>\n",
       "    </tr>\n",
       "  </tbody>\n",
       "</table>\n",
       "</div>"
      ],
      "text/plain": [
       "                    Open          High           Low         Close  \\\n",
       "Date                                                                 \n",
       "2021-03-14  60001.175781  61578.289062  59509.558594  59844.519531   \n",
       "\n",
       "                 Volume  Dividends  Stock Splits  \n",
       "Date                                              \n",
       "2021-03-14  45793230848          0             0  "
      ]
     },
     "execution_count": 5,
     "metadata": {},
     "output_type": "execute_result"
    }
   ],
   "source": [
    "btc_df"
   ]
  },
  {
   "cell_type": "code",
   "execution_count": 6,
   "id": "golden-mechanism",
   "metadata": {},
   "outputs": [],
   "source": [
    "# Save to data folder\n",
    "btc_df.to_csv(os.path.join(OUTPUT_DIR, OUTPUT_FILENAME))"
   ]
  },
  {
   "cell_type": "code",
   "execution_count": null,
   "id": "designing-furniture",
   "metadata": {
    "tags": [
     "parameters"
    ]
   },
   "outputs": [],
   "source": [
    "# parameter cell\n",
    "alpha = 0.1\n",
    "beta = 0.2"
   ]
  }
 ],
 "metadata": {
  "kernelspec": {
   "display_name": "notebook_indus",
   "language": "python",
   "name": "notebook_indus"
  },
  "language_info": {
   "codemirror_mode": {
    "name": "ipython",
    "version": 3
   },
   "file_extension": ".py",
   "mimetype": "text/x-python",
   "name": "python",
   "nbconvert_exporter": "python",
   "pygments_lexer": "ipython3",
   "version": "3.8.8"
  }
 },
 "nbformat": 4,
 "nbformat_minor": 5
}

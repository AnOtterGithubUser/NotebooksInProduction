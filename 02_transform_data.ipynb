{
 "cells": [
  {
   "cell_type": "markdown",
   "id": "common-spanish",
   "metadata": {},
   "source": [
    "# Transform data"
   ]
  },
  {
   "cell_type": "code",
   "execution_count": 7,
   "id": "registered-university",
   "metadata": {},
   "outputs": [],
   "source": [
    "# Import libraries\n",
    "import datetime\n",
    "import pandas as pd\n",
    "import os\n",
    "from pathlib import Path"
   ]
  },
  {
   "cell_type": "code",
   "execution_count": 8,
   "id": "pediatric-router",
   "metadata": {
    "tags": [
     "parameters"
    ]
   },
   "outputs": [],
   "source": [
    "# Constants\n",
    "BTC_TICKER = \"BTC-USD\"\n",
    "DATA_DIR = \"data\"\n",
    "INPUT_DIRNAME = \"01_raw\"\n",
    "OUTPUT_DIRNAME = \"02_clean\"\n",
    "DATE_FORMAT = \"%Y-%m-%d\"\n",
    "PRICE_COLUMN = \"Close\"\n",
    "DATE_COLUMN = \"Date\"\n",
    "INPUT_FILENAME = \"raw_data.csv\"\n",
    "OUTPUT_FILENAME = \"clean_data.csv\"\n",
    "EXECUTION_DATE = \"2021-03-14\""
   ]
  },
  {
   "cell_type": "code",
   "execution_count": 9,
   "id": "controversial-arrest",
   "metadata": {},
   "outputs": [],
   "source": [
    "# System\n",
    "INPUT_DIR = os.path.join(DATA_DIR, INPUT_DIRNAME, EXECUTION_DATE)\n",
    "OUTPUT_DIR = Path(os.path.join(DATA_DIR, OUTPUT_DIRNAME, EXECUTION_DATE))\n",
    "OUTPUT_DIR.mkdir(parents=True, exist_ok=True)"
   ]
  },
  {
   "cell_type": "code",
   "execution_count": 10,
   "id": "organic-supply",
   "metadata": {},
   "outputs": [],
   "source": [
    "btc_df = pd.read_csv(os.path.join(INPUT_DIR, INPUT_FILENAME))\n",
    "btc_filter_df = btc_df[[DATE_COLUMN, PRICE_COLUMN]]"
   ]
  },
  {
   "cell_type": "code",
   "execution_count": 11,
   "id": "loved-effectiveness",
   "metadata": {},
   "outputs": [],
   "source": [
    "# Save to data folder\n",
    "btc_filter_df.to_csv(os.path.join(OUTPUT_DIR, OUTPUT_FILENAME), index=False)"
   ]
  }
 ],
 "metadata": {
  "kernelspec": {
   "display_name": "notebook_indus",
   "language": "python",
   "name": "notebook_indus"
  },
  "language_info": {
   "codemirror_mode": {
    "name": "ipython",
    "version": 3
   },
   "file_extension": ".py",
   "mimetype": "text/x-python",
   "name": "python",
   "nbconvert_exporter": "python",
   "pygments_lexer": "ipython3",
   "version": "3.8.8"
  }
 },
 "nbformat": 4,
 "nbformat_minor": 5
}

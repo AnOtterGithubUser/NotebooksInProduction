{
 "cells": [
  {
   "cell_type": "markdown",
   "id": "perfect-puppy",
   "metadata": {},
   "source": [
    "# Train model"
   ]
  },
  {
   "cell_type": "code",
   "execution_count": 1,
   "id": "played-activity",
   "metadata": {},
   "outputs": [],
   "source": [
    "from sklearn.ensemble import GradientBoostingRegressor\n",
    "from sklearn.base import TransformerMixin\n",
    "import pandas as pd\n",
    "import os\n",
    "from joblib import dump, load\n",
    "import datetime\n",
    "from pathlib import Path"
   ]
  },
  {
   "cell_type": "code",
   "execution_count": 2,
   "id": "stuffed-improvement",
   "metadata": {},
   "outputs": [],
   "source": [
    "DATA_DIR = \"data\"\n",
    "INPUT_DIRNAME = \"02_clean\"\n",
    "INPUT_FILENAME = \"clean_data.csv\"\n",
    "OUTPUT_DIRNAME = \"artifacts\"\n",
    "NB_DAYS_TO_TRAIN = 7\n",
    "EXECUTION_DATE = pd.to_datetime(\"2021-03-18\")\n",
    "DATE_FORMAT = \"%Y-%m-%d\"\n",
    "DAY_PLUS_1 = \"DAY_PLUS_1\"\n",
    "DAY_PLUS_7 = \"DAY_PLUS_7\"\n",
    "DAY_PLUS_30 = \"DAY_PLUS_30\""
   ]
  },
  {
   "cell_type": "code",
   "execution_count": 3,
   "id": "continuous-particle",
   "metadata": {},
   "outputs": [],
   "source": [
    "OUTPUT_DIR_1 = Path(os.path.join(OUTPUT_DIRNAME, EXECUTION_DATE.strftime(DATE_FORMAT), DAY_PLUS_1))\n",
    "OUTPUT_DIR_7 = Path(os.path.join(OUTPUT_DIRNAME, EXECUTION_DATE.strftime(DATE_FORMAT), DAY_PLUS_7))\n",
    "OUTPUT_DIR_30 = Path(os.path.join(OUTPUT_DIRNAME, EXECUTION_DATE.strftime(DATE_FORMAT), DAY_PLUS_30))\n",
    "OUTPUT_DIR_1.mkdir(parents=True, exist_ok=True)\n",
    "OUTPUT_DIR_7.mkdir(parents=True, exist_ok=True)\n",
    "OUTPUT_DIR_30.mkdir(parents=True, exist_ok=True)"
   ]
  },
  {
   "cell_type": "code",
   "execution_count": 4,
   "id": "administrative-growth",
   "metadata": {},
   "outputs": [],
   "source": [
    "def load_all_available_data_before_date(path: str) -> pd.DataFrame:\n",
    "    dataframes = [pd.read_csv(os.path.join(path, name, INPUT_FILENAME)) for name in os.listdir(path) if \".\" not in name and pd.to_datetime(name) <= EXECUTION_DATE]\n",
    "    return pd.concat(dataframes, ignore_index=True)"
   ]
  },
  {
   "cell_type": "code",
   "execution_count": 5,
   "id": "stupid-board",
   "metadata": {},
   "outputs": [],
   "source": [
    "# Load data\n",
    "data = load_all_available_data_before_date(os.path.join(DATA_DIR, INPUT_DIRNAME))"
   ]
  },
  {
   "cell_type": "code",
   "execution_count": 6,
   "id": "chinese-victim",
   "metadata": {},
   "outputs": [
    {
     "data": {
      "text/html": [
       "<div>\n",
       "<style scoped>\n",
       "    .dataframe tbody tr th:only-of-type {\n",
       "        vertical-align: middle;\n",
       "    }\n",
       "\n",
       "    .dataframe tbody tr th {\n",
       "        vertical-align: top;\n",
       "    }\n",
       "\n",
       "    .dataframe thead th {\n",
       "        text-align: right;\n",
       "    }\n",
       "</style>\n",
       "<table border=\"1\" class=\"dataframe\">\n",
       "  <thead>\n",
       "    <tr style=\"text-align: right;\">\n",
       "      <th></th>\n",
       "      <th>value</th>\n",
       "    </tr>\n",
       "    <tr>\n",
       "      <th>Date</th>\n",
       "      <th></th>\n",
       "    </tr>\n",
       "  </thead>\n",
       "  <tbody>\n",
       "    <tr>\n",
       "      <th>2021-01-01</th>\n",
       "      <td>29374.152344</td>\n",
       "    </tr>\n",
       "    <tr>\n",
       "      <th>2021-01-02</th>\n",
       "      <td>32127.267578</td>\n",
       "    </tr>\n",
       "    <tr>\n",
       "      <th>2021-01-03</th>\n",
       "      <td>32782.023438</td>\n",
       "    </tr>\n",
       "    <tr>\n",
       "      <th>2021-01-04</th>\n",
       "      <td>31971.914062</td>\n",
       "    </tr>\n",
       "    <tr>\n",
       "      <th>2021-01-05</th>\n",
       "      <td>33992.429688</td>\n",
       "    </tr>\n",
       "    <tr>\n",
       "      <th>...</th>\n",
       "      <td>...</td>\n",
       "    </tr>\n",
       "    <tr>\n",
       "      <th>2021-03-14</th>\n",
       "      <td>59844.519531</td>\n",
       "    </tr>\n",
       "    <tr>\n",
       "      <th>2021-03-15</th>\n",
       "      <td>55907.199219</td>\n",
       "    </tr>\n",
       "    <tr>\n",
       "      <th>2021-03-16</th>\n",
       "      <td>56304.406250</td>\n",
       "    </tr>\n",
       "    <tr>\n",
       "      <th>2021-03-17</th>\n",
       "      <td>55904.730469</td>\n",
       "    </tr>\n",
       "    <tr>\n",
       "      <th>2021-03-18</th>\n",
       "      <td>57858.921875</td>\n",
       "    </tr>\n",
       "  </tbody>\n",
       "</table>\n",
       "<p>77 rows × 1 columns</p>\n",
       "</div>"
      ],
      "text/plain": [
       "                   value\n",
       "Date                    \n",
       "2021-01-01  29374.152344\n",
       "2021-01-02  32127.267578\n",
       "2021-01-03  32782.023438\n",
       "2021-01-04  31971.914062\n",
       "2021-01-05  33992.429688\n",
       "...                  ...\n",
       "2021-03-14  59844.519531\n",
       "2021-03-15  55907.199219\n",
       "2021-03-16  56304.406250\n",
       "2021-03-17  55904.730469\n",
       "2021-03-18  57858.921875\n",
       "\n",
       "[77 rows x 1 columns]"
      ]
     },
     "execution_count": 6,
     "metadata": {},
     "output_type": "execute_result"
    }
   ],
   "source": [
    "data = data.set_index(\"Date\").rename(columns={\"Close\": \"value\"}).sort_index()\n",
    "data"
   ]
  },
  {
   "cell_type": "code",
   "execution_count": 7,
   "id": "assumed-kelly",
   "metadata": {},
   "outputs": [],
   "source": [
    "class PastDataSetter(TransformerMixin):\n",
    "    \n",
    "    PAST_COLUMN_NAME = \"value_minus_\"\n",
    "    NEW_COL_NAME = \"target\"\n",
    "    \n",
    "    def __init__(self, data_column=\"value\", nb_days_to_set=30, delay=1):\n",
    "        self.data_column = data_column\n",
    "        self.nb_days_to_set = nb_days_to_set\n",
    "        self.delay = delay\n",
    "    \n",
    "    def fit(self, X, y=None):\n",
    "        return self\n",
    "    \n",
    "    def transform(self, X):\n",
    "        result = X.copy()\n",
    "        for day in range(self.delay, self.delay + self.nb_days_to_set):\n",
    "            result[self.PAST_COLUMN_NAME + str(day)] = X[self.data_column].shift(day)\n",
    "        result = result.dropna()\n",
    "        result = result.rename(columns={self.data_column: self.NEW_COL_NAME})\n",
    "        y = result[self.NEW_COL_NAME].values\n",
    "        X = result.drop([self.NEW_COL_NAME], axis=1).values\n",
    "        return X, y"
   ]
  },
  {
   "cell_type": "code",
   "execution_count": 8,
   "id": "southeast-elimination",
   "metadata": {},
   "outputs": [],
   "source": [
    "setter_1 = PastDataSetter(nb_days_to_set=NB_DAYS_TO_TRAIN, delay=1)\n",
    "setter_7 = PastDataSetter(nb_days_to_set=NB_DAYS_TO_TRAIN, delay=7)\n",
    "setter_30 = PastDataSetter(nb_days_to_set=NB_DAYS_TO_TRAIN, delay=30)\n",
    "\n",
    "X_plus_1, y_plus_1 = setter_1.fit_transform(data)\n",
    "X_plus_7, y_plus_7 = setter_7.fit_transform(data)\n",
    "X_plus_30, y_plus_30 = setter_30.fit_transform(data)"
   ]
  },
  {
   "cell_type": "code",
   "execution_count": 9,
   "id": "owned-telling",
   "metadata": {},
   "outputs": [],
   "source": [
    "#Train the model\n",
    "grad_boost_plus_1 = GradientBoostingRegressor().fit(X_plus_1, y_plus_1)\n",
    "grad_boost_plus_7 = GradientBoostingRegressor().fit(X_plus_7, y_plus_7)\n",
    "grad_boost_plus_30 = GradientBoostingRegressor().fit(X_plus_30, y_plus_30)"
   ]
  },
  {
   "cell_type": "code",
   "execution_count": 10,
   "id": "palestinian-fossil",
   "metadata": {},
   "outputs": [
    {
     "data": {
      "text/plain": [
       "['artifacts/2021-03-18/DAY_PLUS_30/GradientBoostingRegressor.joblib']"
      ]
     },
     "execution_count": 10,
     "metadata": {},
     "output_type": "execute_result"
    }
   ],
   "source": [
    "dump(setter_1, os.path.join(OUTPUT_DIR_1, \"%s_gradient_boosting.joblib\" % setter_1.__class__.__name__))\n",
    "dump(grad_boost_plus_1, os.path.join(OUTPUT_DIR_1, \"%s.joblib\" % grad_boost_plus_1.__class__.__name__))\n",
    "\n",
    "dump(setter_7, os.path.join(OUTPUT_DIR_7, \"%s_gradient_boosting.joblib\" % setter_7.__class__.__name__))\n",
    "dump(grad_boost_plus_7, os.path.join(OUTPUT_DIR_7, \"%s.joblib\" % grad_boost_plus_7.__class__.__name__))\n",
    "\n",
    "dump(setter_30, os.path.join(OUTPUT_DIR_30, \"%s_gradient_boosting.joblib\" % setter_30.__class__.__name__))\n",
    "dump(grad_boost_plus_30, os.path.join(OUTPUT_DIR_30, \"%s.joblib\" % grad_boost_plus_30.__class__.__name__))"
   ]
  }
 ],
 "metadata": {
  "kernelspec": {
   "display_name": "notebook_indus",
   "language": "python",
   "name": "notebook_indus"
  },
  "language_info": {
   "codemirror_mode": {
    "name": "ipython",
    "version": 3
   },
   "file_extension": ".py",
   "mimetype": "text/x-python",
   "name": "python",
   "nbconvert_exporter": "python",
   "pygments_lexer": "ipython3",
   "version": "3.8.8"
  }
 },
 "nbformat": 4,
 "nbformat_minor": 5
}

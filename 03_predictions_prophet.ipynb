{
 "cells": [
  {
   "cell_type": "markdown",
   "id": "sonic-nerve",
   "metadata": {},
   "source": [
    "# Prediction for N+1, N+7, N+30"
   ]
  },
  {
   "cell_type": "code",
   "execution_count": 1,
   "id": "minor-macro",
   "metadata": {},
   "outputs": [],
   "source": [
    "# Import libraries\n",
    "import datetime\n",
    "import os\n",
    "import pandas as pd\n",
    "from pathlib import Path\n",
    "from joblib import load\n",
    "from sklearn.base import TransformerMixin\n",
    "import json\n",
    "from fbprophet.serialize import model_to_json, model_from_json"
   ]
  },
  {
   "cell_type": "code",
   "execution_count": 2,
   "id": "valid-obligation",
   "metadata": {
    "tags": [
     "parameters"
    ]
   },
   "outputs": [],
   "source": [
    "# Constants\n",
    "MODEL_PATH = \"artifacts/2021-03-18/\"\n",
    "MODEL_NAME = \"prophet.json\"\n",
    "DATA_DIR = \"data\"\n",
    "DATE_FORMAT = \"%Y-%m-%d\"\n",
    "INPUT_DIRNAME = \"02_clean\"\n",
    "INPUT_FILENAME = \"clean_data.csv\"\n",
    "OUTPUT_DIRNAME = \"03_predictions\"\n",
    "OUTPUT_FILENAME = \"predictions_prophet.csv\"\n",
    "EXECUTION_DATE = \"2021-02-13\"\n",
    "DAY_PLUS_1 = \"DAY_PLUS_1\"\n",
    "DAY_PLUS_7 = \"DAY_PLUS_7\"\n",
    "DAY_PLUS_30 = \"DAY_PLUS_30\""
   ]
  },
  {
   "cell_type": "code",
   "execution_count": 3,
   "id": "quick-somewhere",
   "metadata": {},
   "outputs": [],
   "source": [
    "# System constants\n",
    "D_PLUS_1 = datetime.datetime.strptime(EXECUTION_DATE, \"%Y-%m-%d\") + datetime.timedelta(days=1)\n",
    "D_PLUS_7 = datetime.datetime.strptime(EXECUTION_DATE, \"%Y-%m-%d\") + datetime.timedelta(days=7)\n",
    "D_PLUS_30 = datetime.datetime.strptime(EXECUTION_DATE, \"%Y-%m-%d\") + datetime.timedelta(days=30)\n",
    "OUTPUT_DIR_1 = Path(os.path.join(DATA_DIR, OUTPUT_DIRNAME, D_PLUS_1.strftime(DATE_FORMAT), DAY_PLUS_1))\n",
    "OUTPUT_DIR_1.mkdir(parents=True, exist_ok=True)\n",
    "OUTPUT_DIR_7 = Path(os.path.join(DATA_DIR, OUTPUT_DIRNAME, D_PLUS_7.strftime(DATE_FORMAT), DAY_PLUS_7))\n",
    "OUTPUT_DIR_7.mkdir(parents=True, exist_ok=True)\n",
    "OUTPUT_DIR_30 = Path(os.path.join(DATA_DIR, OUTPUT_DIRNAME, D_PLUS_30.strftime(DATE_FORMAT), DAY_PLUS_30))\n",
    "OUTPUT_DIR_30.mkdir(parents=True, exist_ok=True)"
   ]
  },
  {
   "cell_type": "code",
   "execution_count": 4,
   "id": "governing-advocacy",
   "metadata": {},
   "outputs": [],
   "source": [
    "prediction_df_plus_1 = pd.DataFrame(data=[D_PLUS_1], columns=[\"ds\"])\n",
    "prediction_df_plus_7 = pd.DataFrame(data=[D_PLUS_7], columns=[\"ds\"])\n",
    "prediction_df_plus_30 = pd.DataFrame(data=[D_PLUS_30], columns=[\"ds\"])"
   ]
  },
  {
   "cell_type": "code",
   "execution_count": 5,
   "id": "swiss-stevens",
   "metadata": {},
   "outputs": [],
   "source": [
    "# Load models artifacts\n",
    "with open(os.path.join(MODEL_PATH, MODEL_NAME), 'r') as smodel:\n",
    "    model = model_from_json(json.load(smodel))"
   ]
  },
  {
   "cell_type": "code",
   "execution_count": 6,
   "id": "vocational-clause",
   "metadata": {},
   "outputs": [],
   "source": [
    "# Predict for D+1, D+7, D+30\n",
    "predictions_1 = model.predict(prediction_df_plus_1)[[\"ds\", \"yhat\"]].set_index(\"ds\").rename(columns={\"yhat\": \"value\"})\n",
    "predictions_7 = model.predict(prediction_df_plus_7)[[\"ds\", \"yhat\"]].set_index(\"ds\").rename(columns={\"yhat\": \"value\"})\n",
    "predictions_30 = model.predict(prediction_df_plus_30)[[\"ds\", \"yhat\"]].set_index(\"ds\").rename(columns={\"yhat\": \"value\"})"
   ]
  },
  {
   "cell_type": "code",
   "execution_count": 7,
   "id": "traditional-cover",
   "metadata": {},
   "outputs": [
    {
     "data": {
      "text/html": [
       "<div>\n",
       "<style scoped>\n",
       "    .dataframe tbody tr th:only-of-type {\n",
       "        vertical-align: middle;\n",
       "    }\n",
       "\n",
       "    .dataframe tbody tr th {\n",
       "        vertical-align: top;\n",
       "    }\n",
       "\n",
       "    .dataframe thead th {\n",
       "        text-align: right;\n",
       "    }\n",
       "</style>\n",
       "<table border=\"1\" class=\"dataframe\">\n",
       "  <thead>\n",
       "    <tr style=\"text-align: right;\">\n",
       "      <th></th>\n",
       "      <th>Prediction</th>\n",
       "    </tr>\n",
       "    <tr>\n",
       "      <th>ds</th>\n",
       "      <th></th>\n",
       "    </tr>\n",
       "  </thead>\n",
       "  <tbody>\n",
       "    <tr>\n",
       "      <th>2021-02-14</th>\n",
       "      <td>44769.305391</td>\n",
       "    </tr>\n",
       "  </tbody>\n",
       "</table>\n",
       "</div>"
      ],
      "text/plain": [
       "              Prediction\n",
       "ds                      \n",
       "2021-02-14  44769.305391"
      ]
     },
     "execution_count": 7,
     "metadata": {},
     "output_type": "execute_result"
    }
   ],
   "source": [
    "predictions_1"
   ]
  },
  {
   "cell_type": "code",
   "execution_count": null,
   "id": "willing-madagascar",
   "metadata": {},
   "outputs": [],
   "source": [
    "# Save predictions\n",
    "predictions_1.to_csv(os.path.join(OUTPUT_DIR_1, OUTPUT_FILENAME))\n",
    "predictions_7.to_csv(os.path.join(OUTPUT_DIR_7, OUTPUT_FILENAME))\n",
    "predictions_30.to_csv(os.path.join(OUTPUT_DIR_30, OUTPUT_FILENAME))"
   ]
  }
 ],
 "metadata": {
  "kernelspec": {
   "display_name": "notebook_indus",
   "language": "python",
   "name": "notebook_indus"
  },
  "language_info": {
   "codemirror_mode": {
    "name": "ipython",
    "version": 3
   },
   "file_extension": ".py",
   "mimetype": "text/x-python",
   "name": "python",
   "nbconvert_exporter": "python",
   "pygments_lexer": "ipython3",
   "version": "3.8.8"
  }
 },
 "nbformat": 4,
 "nbformat_minor": 5
}
